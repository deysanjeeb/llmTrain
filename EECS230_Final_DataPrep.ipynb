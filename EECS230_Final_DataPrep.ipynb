{
 "cells": [
  {
   "cell_type": "markdown",
   "id": "80e1e1ce",
   "metadata": {},
   "source": [
    "# Embeddings for RAG"
   ]
  },
  {
   "cell_type": "markdown",
   "id": "dc5aa02f",
   "metadata": {},
   "source": [
    "### Importing Libraries and Loading Data"
   ]
  },
  {
   "cell_type": "code",
   "execution_count": 1,
   "id": "bec78ed4",
   "metadata": {},
   "outputs": [],
   "source": [
    "import numpy as np\n",
    "from time import time"
   ]
  },
  {
   "cell_type": "code",
   "execution_count": 2,
   "id": "9c7e786c",
   "metadata": {},
   "outputs": [],
   "source": [
    "a_test = np.load(\"data/answers_test.npy\", allow_pickle=True)\n",
    "a_train = np.load(\"data/answers_train.npy\", allow_pickle=True)\n",
    "q_test = np.load(\"data/questions_test.npy\", allow_pickle=True)\n",
    "q_train = np.load(\"data/questions_train.npy\", allow_pickle=True)"
   ]
  },
  {
   "cell_type": "code",
   "execution_count": 3,
   "id": "0dffc163",
   "metadata": {},
   "outputs": [
    {
     "data": {
      "text/html": [
       "\n",
       "    <script>\n",
       "    function code_toggle() {\n",
       "        if ($('div.cell.code_cell.rendered.selected div.input').css('display')!='none'){\n",
       "            $('div.cell.code_cell.rendered.selected div.input').hide();\n",
       "        } else {\n",
       "            $('div.cell.code_cell.rendered.selected div.input').show();\n",
       "        }\n",
       "    }\n",
       "    </script>\n",
       "\n",
       "\n",
       "<form action=\"javascript:code_toggle()\"><input type=\"submit\" id=\"toggleButton\" value=\"Hide/Unhide\"></form>\n"
      ],
      "text/plain": [
       "<IPython.core.display.HTML object>"
      ]
     },
     "metadata": {},
     "output_type": "display_data"
    },
    {
     "name": "stdout",
     "output_type": "stream",
     "text": [
      "Note: you may need to restart the kernel to use updated packages.\n",
      "Note: you may need to restart the kernel to use updated packages.\n",
      "Note: you may need to restart the kernel to use updated packages.\n",
      "Note: you may need to restart the kernel to use updated packages.\n"
     ]
    }
   ],
   "source": [
    "from hide_cell import toggle_code as hide_cell\n",
    "# Pip install necessary package\n",
    "!pip install -U --quiet  huggingface_hub\n",
    "%pip install --upgrade --quiet  pgvector\n",
    "%pip install --upgrade --quiet  langchain-openai\n",
    "%pip install --upgrade --quiet  psycopg2-binary\n",
    "%pip install --upgrade --quiet  tiktoken"
   ]
  },
  {
   "cell_type": "code",
   "execution_count": 4,
   "id": "d7df26cb",
   "metadata": {},
   "outputs": [],
   "source": [
    "import torch, os, numpy as np, pandas as pd\n",
    "from transformers import AutoTokenizer, AutoModel, AutoModelForCausalLM, Trainer, TrainingArguments"
   ]
  },
  {
   "cell_type": "code",
   "execution_count": 9,
   "id": "099946d3",
   "metadata": {},
   "outputs": [
    {
     "name": "stdout",
     "output_type": "stream",
     "text": [
      "(2067, 2)\n"
     ]
    },
    {
     "data": {
      "text/html": [
       "<div>\n",
       "<style scoped>\n",
       "    .dataframe tbody tr th:only-of-type {\n",
       "        vertical-align: middle;\n",
       "    }\n",
       "\n",
       "    .dataframe tbody tr th {\n",
       "        vertical-align: top;\n",
       "    }\n",
       "\n",
       "    .dataframe thead th {\n",
       "        text-align: right;\n",
       "    }\n",
       "</style>\n",
       "<table border=\"1\" class=\"dataframe\">\n",
       "  <thead>\n",
       "    <tr style=\"text-align: right;\">\n",
       "      <th></th>\n",
       "      <th>Titles</th>\n",
       "      <th>Content</th>\n",
       "    </tr>\n",
       "  </thead>\n",
       "  <tbody>\n",
       "    <tr>\n",
       "      <th>0</th>\n",
       "      <td>Super_Bowl_50</td>\n",
       "      <td>Super Bowl 50 was an American football game to...</td>\n",
       "    </tr>\n",
       "    <tr>\n",
       "      <th>1</th>\n",
       "      <td>Super_Bowl_50</td>\n",
       "      <td>The Panthers finished the regular season with ...</td>\n",
       "    </tr>\n",
       "    <tr>\n",
       "      <th>2</th>\n",
       "      <td>Super_Bowl_50</td>\n",
       "      <td>The Broncos took an early lead in Super Bowl 5...</td>\n",
       "    </tr>\n",
       "    <tr>\n",
       "      <th>3</th>\n",
       "      <td>Super_Bowl_50</td>\n",
       "      <td>CBS broadcast Super Bowl 50 in the U.S., and c...</td>\n",
       "    </tr>\n",
       "    <tr>\n",
       "      <th>4</th>\n",
       "      <td>Super_Bowl_50</td>\n",
       "      <td>In early 2012, NFL Commissioner Roger Goodell ...</td>\n",
       "    </tr>\n",
       "  </tbody>\n",
       "</table>\n",
       "</div>"
      ],
      "text/plain": [
       "          Titles                                            Content\n",
       "0  Super_Bowl_50  Super Bowl 50 was an American football game to...\n",
       "1  Super_Bowl_50  The Panthers finished the regular season with ...\n",
       "2  Super_Bowl_50  The Broncos took an early lead in Super Bowl 5...\n",
       "3  Super_Bowl_50  CBS broadcast Super Bowl 50 in the U.S., and c...\n",
       "4  Super_Bowl_50  In early 2012, NFL Commissioner Roger Goodell ..."
      ]
     },
     "execution_count": 9,
     "metadata": {},
     "output_type": "execute_result"
    }
   ],
   "source": [
    "articles = pd.read_csv(\"data/articles.csv\", sep='|', )\n",
    "print(articles.shape)\n",
    "articles.head()"
   ]
  },
  {
   "cell_type": "markdown",
   "id": "a62ffa83",
   "metadata": {},
   "source": [
    "### Embeddings for Articles"
   ]
  },
  {
   "cell_type": "code",
   "execution_count": 12,
   "id": "a6d2ab08",
   "metadata": {},
   "outputs": [],
   "source": [
    "texts = list(articles[\"Content\"])"
   ]
  },
  {
   "cell_type": "code",
   "execution_count": 13,
   "id": "e0031e83",
   "metadata": {},
   "outputs": [
    {
     "name": "stdout",
     "output_type": "stream",
     "text": [
      "Started tokenizing...\n",
      "... +200 embeddings done. Time spend: 47.97220587730408\n",
      "... +200 embeddings done. Time spend: 68.89623188972473\n",
      "... +200 embeddings done. Time spend: 93.31350135803223\n",
      "... +200 embeddings done. Time spend: 64.3081693649292\n",
      "... +200 embeddings done. Time spend: 133.89897298812866\n",
      "... +200 embeddings done. Time spend: 99.9266312122345\n",
      "... +200 embeddings done. Time spend: 120.8892412185669\n",
      "... +200 embeddings done. Time spend: 85.44681406021118\n",
      "... +200 embeddings done. Time spend: 71.72239995002747\n",
      "... +200 embeddings done. Time spend: 63.632261514663696\n",
      "... +200 embeddings done. Time spend: 62.7821900844574\n"
     ]
    }
   ],
   "source": [
    "# Load model from HuggingFace Hub\n",
    "tokenizer = AutoTokenizer.from_pretrained('BAAI/bge-small-en-v1.5')\n",
    "model = AutoModel.from_pretrained('BAAI/bge-small-en-v1.5')\n",
    "model.eval()\n",
    "\n",
    "print(\"Started tokenizing...\")\n",
    "all_article_embeddings = torch.randn(0)\n",
    "start = time()\n",
    "\n",
    "# Tokenize sentences\n",
    "for i in range(articles.shape[0] // 100 + 1):\n",
    "    #print(i)\n",
    "    encoded_input = tokenizer(texts[i*100:min(i*100+100, articles.shape[0])], padding=True, truncation=True, return_tensors='pt')\n",
    "    # for s2p(short query to long passage) retrieval task, add an instruction to query (not add instruction for passages)\n",
    "    # encoded_input = tokenizer([instruction + q for q in queries], padding=True, truncation=True, return_tensors='pt')\n",
    "    \n",
    "    # Compute token embeddings\n",
    "    with torch.no_grad():\n",
    "        model_output = model(**encoded_input)\n",
    "        # Perform pooling. In this case, cls pooling.\n",
    "        text_embeddings = model_output[0][:, 0]\n",
    "    # normalize embeddings\n",
    "    sentence_embeddings = torch.nn.functional.normalize(text_embeddings, p=2, dim=1)\n",
    "    all_article_embeddings = torch.cat((all_article_embeddings, text_embeddings), dim=0)\n",
    "    \n",
    "    if i % 2 == 0: \n",
    "        print(\"... +200 embeddings done. Time spend:\", time() - start)\n",
    "        start = time()\n",
    "    #print(\"Sentence embeddings:\", sentence_embeddings)\n",
    "    #print(type(sentence_embeddings))"
   ]
  },
  {
   "cell_type": "code",
   "execution_count": 32,
   "id": "cbca05f0",
   "metadata": {},
   "outputs": [
    {
     "name": "stdout",
     "output_type": "stream",
     "text": [
      "tensor(0.6551)\n"
     ]
    }
   ],
   "source": [
    "all_article_embeddings.size()\n",
    "all_article_embeddings2 = all_article_embeddings.clone()\n",
    "for embedding in all_article_embeddings2:\n",
    "    print(embedding[1])\n",
    "    break\n"
   ]
  },
  {
   "cell_type": "code",
   "execution_count": 105,
   "id": "177d2af8",
   "metadata": {},
   "outputs": [],
   "source": [
    "articles[\"Embedding\"] = list(all_article_embeddings2.numpy())"
   ]
  },
  {
   "cell_type": "code",
   "execution_count": 106,
   "id": "b031d8dd",
   "metadata": {},
   "outputs": [],
   "source": [
    "for i in range(articles.shape[0]):\n",
    "    articles[\"Embedding\"][i] = str(list(articles[\"Embedding\"][i]))"
   ]
  },
  {
   "cell_type": "code",
   "execution_count": 107,
   "id": "8a582087",
   "metadata": {},
   "outputs": [
    {
     "data": {
      "text/html": [
       "<div>\n",
       "<style scoped>\n",
       "    .dataframe tbody tr th:only-of-type {\n",
       "        vertical-align: middle;\n",
       "    }\n",
       "\n",
       "    .dataframe tbody tr th {\n",
       "        vertical-align: top;\n",
       "    }\n",
       "\n",
       "    .dataframe thead th {\n",
       "        text-align: right;\n",
       "    }\n",
       "</style>\n",
       "<table border=\"1\" class=\"dataframe\">\n",
       "  <thead>\n",
       "    <tr style=\"text-align: right;\">\n",
       "      <th></th>\n",
       "      <th>Titles</th>\n",
       "      <th>Content</th>\n",
       "      <th>Embedding</th>\n",
       "    </tr>\n",
       "  </thead>\n",
       "  <tbody>\n",
       "    <tr>\n",
       "      <th>0</th>\n",
       "      <td>Super_Bowl_50</td>\n",
       "      <td>Super Bowl 50 was an American football game to...</td>\n",
       "      <td>[-0.18496414, 0.6551217, 0.20338096, -0.459793...</td>\n",
       "    </tr>\n",
       "    <tr>\n",
       "      <th>1</th>\n",
       "      <td>Super_Bowl_50</td>\n",
       "      <td>The Panthers finished the regular season with ...</td>\n",
       "      <td>[0.1856204, 0.48492086, -0.09557928, -0.699036...</td>\n",
       "    </tr>\n",
       "    <tr>\n",
       "      <th>2</th>\n",
       "      <td>Super_Bowl_50</td>\n",
       "      <td>The Broncos took an early lead in Super Bowl 5...</td>\n",
       "      <td>[-0.42100757, 0.6728958, 0.20258255, -0.928931...</td>\n",
       "    </tr>\n",
       "    <tr>\n",
       "      <th>3</th>\n",
       "      <td>Super_Bowl_50</td>\n",
       "      <td>CBS broadcast Super Bowl 50 in the U.S., and c...</td>\n",
       "      <td>[-0.03190776, 0.06583987, 0.24414025, -1.04467...</td>\n",
       "    </tr>\n",
       "    <tr>\n",
       "      <th>4</th>\n",
       "      <td>Super_Bowl_50</td>\n",
       "      <td>In early 2012, NFL Commissioner Roger Goodell ...</td>\n",
       "      <td>[-0.33727553, -0.006797987, -0.066093445, -1.0...</td>\n",
       "    </tr>\n",
       "  </tbody>\n",
       "</table>\n",
       "</div>"
      ],
      "text/plain": [
       "          Titles                                            Content  \\\n",
       "0  Super_Bowl_50  Super Bowl 50 was an American football game to...   \n",
       "1  Super_Bowl_50  The Panthers finished the regular season with ...   \n",
       "2  Super_Bowl_50  The Broncos took an early lead in Super Bowl 5...   \n",
       "3  Super_Bowl_50  CBS broadcast Super Bowl 50 in the U.S., and c...   \n",
       "4  Super_Bowl_50  In early 2012, NFL Commissioner Roger Goodell ...   \n",
       "\n",
       "                                           Embedding  \n",
       "0  [-0.18496414, 0.6551217, 0.20338096, -0.459793...  \n",
       "1  [0.1856204, 0.48492086, -0.09557928, -0.699036...  \n",
       "2  [-0.42100757, 0.6728958, 0.20258255, -0.928931...  \n",
       "3  [-0.03190776, 0.06583987, 0.24414025, -1.04467...  \n",
       "4  [-0.33727553, -0.006797987, -0.066093445, -1.0...  "
      ]
     },
     "execution_count": 107,
     "metadata": {},
     "output_type": "execute_result"
    }
   ],
   "source": [
    "articles.head()"
   ]
  },
  {
   "cell_type": "code",
   "execution_count": 108,
   "id": "1a2835d2",
   "metadata": {},
   "outputs": [],
   "source": [
    "articles.to_csv(\"data/articles.csv\", sep=\"|\")"
   ]
  },
  {
   "cell_type": "code",
   "execution_count": 66,
   "id": "9f29e6f0",
   "metadata": {},
   "outputs": [
    {
     "name": "stdout",
     "output_type": "stream",
     "text": [
      "8456 2114\n"
     ]
    }
   ],
   "source": [
    "print(len(q_train), len(q_test))"
   ]
  },
  {
   "cell_type": "markdown",
   "id": "2b51822e",
   "metadata": {},
   "source": [
    "### Embeddings for TRAINING Set Questions"
   ]
  },
  {
   "cell_type": "code",
   "execution_count": 5,
   "id": "7a1ccd0c",
   "metadata": {},
   "outputs": [
    {
     "name": "stderr",
     "output_type": "stream",
     "text": [
      "C:\\Users\\Abylay\\AppData\\Local\\anaconda3\\lib\\site-packages\\huggingface_hub\\file_download.py:1132: FutureWarning: `resume_download` is deprecated and will be removed in version 1.0.0. Downloads always resume when possible. If you want to force a new download, use `force_download=True`.\n",
      "  warnings.warn(\n"
     ]
    },
    {
     "name": "stdout",
     "output_type": "stream",
     "text": [
      "Started tokenizing...\n",
      "... +500 embeddings done. Time spend: 1.7777063846588135\n",
      "... +500 embeddings done. Time spend: 7.068681240081787\n",
      "... +500 embeddings done. Time spend: 5.65240740776062\n",
      "... +500 embeddings done. Time spend: 6.814623117446899\n",
      "... +500 embeddings done. Time spend: 5.803053617477417\n",
      "... +500 embeddings done. Time spend: 5.734717130661011\n",
      "... +500 embeddings done. Time spend: 6.711751937866211\n",
      "... +500 embeddings done. Time spend: 8.09401249885559\n",
      "... +500 embeddings done. Time spend: 6.782918691635132\n",
      "... +500 embeddings done. Time spend: 6.876634120941162\n",
      "... +500 embeddings done. Time spend: 7.458440542221069\n",
      "... +500 embeddings done. Time spend: 7.199315309524536\n",
      "... +500 embeddings done. Time spend: 6.820048809051514\n",
      "... +500 embeddings done. Time spend: 5.352373361587524\n",
      "... +500 embeddings done. Time spend: 5.579969167709351\n",
      "... +500 embeddings done. Time spend: 7.080826997756958\n",
      "... +500 embeddings done. Time spend: 6.649754047393799\n"
     ]
    }
   ],
   "source": [
    "# Load model from HuggingFace Hub\n",
    "tokenizer = AutoTokenizer.from_pretrained('BAAI/bge-small-en-v1.5')\n",
    "model = AutoModel.from_pretrained('BAAI/bge-small-en-v1.5')\n",
    "model.eval()\n",
    "\n",
    "print(\"Started tokenizing...\")\n",
    "all_q_train_embeddings = torch.randn(0)\n",
    "start = time()\n",
    "\n",
    "# Tokenize sentences\n",
    "for i in range(q_train.shape[0] // 100 + 1):\n",
    "    #print(i)\n",
    "    encoded_input = tokenizer(list(q_train[i*100:min(i*100+100, q_train.shape[0])]), padding=True, truncation=True, return_tensors='pt')\n",
    "    # for s2p(short query to long passage) retrieval task, add an instruction to query (not add instruction for passages)\n",
    "    # encoded_input = tokenizer([instruction + q for q in queries], padding=True, truncation=True, return_tensors='pt')\n",
    "    \n",
    "    # Compute token embeddings\n",
    "    with torch.no_grad():\n",
    "        model_output = model(**encoded_input)\n",
    "        # Perform pooling. In this case, cls pooling.\n",
    "        q_train_embeddings = model_output[0][:, 0]\n",
    "    # normalize embeddings\n",
    "    q_train_embeddings = torch.nn.functional.normalize(q_train_embeddings, p=2, dim=1)\n",
    "    all_q_train_embeddings = torch.cat((all_q_train_embeddings, q_train_embeddings), dim=0)\n",
    "    \n",
    "    if i % 5 == 0: \n",
    "        print(\"... +500 embeddings done. Time spend:\", time() - start)\n",
    "        start = time()\n",
    "    #print(\"Sentence embeddings:\", sentence_embeddings)\n",
    "    #print(type(sentence_embeddings))"
   ]
  },
  {
   "cell_type": "code",
   "execution_count": 6,
   "id": "52f3e585",
   "metadata": {},
   "outputs": [],
   "source": [
    "all_q_train_embeddings2 = all_q_train_embeddings.clone()"
   ]
  },
  {
   "cell_type": "code",
   "execution_count": 7,
   "id": "47050f4e",
   "metadata": {},
   "outputs": [],
   "source": [
    "q_train_df = pd.DataFrame(data=[q_train, all_q_train_embeddings2]).T\n",
    "q_train_df.columns = [\"Question\", \"Embedding\"]"
   ]
  },
  {
   "cell_type": "code",
   "execution_count": 15,
   "id": "a071cf00",
   "metadata": {},
   "outputs": [],
   "source": [
    "for i in range(q_train_df.shape[0]):\n",
    "    q_train_df[\"Embedding\"][i] = str(list(q_train_df[\"Embedding\"][i].numpy()))"
   ]
  },
  {
   "cell_type": "code",
   "execution_count": 16,
   "id": "e6307a67",
   "metadata": {},
   "outputs": [
    {
     "data": {
      "text/html": [
       "<div>\n",
       "<style scoped>\n",
       "    .dataframe tbody tr th:only-of-type {\n",
       "        vertical-align: middle;\n",
       "    }\n",
       "\n",
       "    .dataframe tbody tr th {\n",
       "        vertical-align: top;\n",
       "    }\n",
       "\n",
       "    .dataframe thead th {\n",
       "        text-align: right;\n",
       "    }\n",
       "</style>\n",
       "<table border=\"1\" class=\"dataframe\">\n",
       "  <thead>\n",
       "    <tr style=\"text-align: right;\">\n",
       "      <th></th>\n",
       "      <th>Question</th>\n",
       "      <th>Embedding</th>\n",
       "    </tr>\n",
       "  </thead>\n",
       "  <tbody>\n",
       "    <tr>\n",
       "      <th>0</th>\n",
       "      <td>Which NFL team represented the AFC at Super Bo...</td>\n",
       "      <td>[-0.018374031, -0.02516927, 0.008701543, -0.08...</td>\n",
       "    </tr>\n",
       "    <tr>\n",
       "      <th>1</th>\n",
       "      <td>Which NFL team represented the NFC at Super Bo...</td>\n",
       "      <td>[-0.0065157767, -0.01013894, -0.016297542, -0....</td>\n",
       "    </tr>\n",
       "    <tr>\n",
       "      <th>2</th>\n",
       "      <td>Where did Super Bowl 50 take place?</td>\n",
       "      <td>[-0.017278872, -0.0012698264, 0.00483831, -0.1...</td>\n",
       "    </tr>\n",
       "    <tr>\n",
       "      <th>3</th>\n",
       "      <td>Which NFL team won Super Bowl 50?</td>\n",
       "      <td>[-0.0070417165, 0.008862875, 0.03743299, -0.08...</td>\n",
       "    </tr>\n",
       "    <tr>\n",
       "      <th>4</th>\n",
       "      <td>What color was used to emphasize the 50th anni...</td>\n",
       "      <td>[-0.0697444, 0.030223556, 0.0025628584, -0.076...</td>\n",
       "    </tr>\n",
       "  </tbody>\n",
       "</table>\n",
       "</div>"
      ],
      "text/plain": [
       "                                            Question  \\\n",
       "0  Which NFL team represented the AFC at Super Bo...   \n",
       "1  Which NFL team represented the NFC at Super Bo...   \n",
       "2                Where did Super Bowl 50 take place?   \n",
       "3                  Which NFL team won Super Bowl 50?   \n",
       "4  What color was used to emphasize the 50th anni...   \n",
       "\n",
       "                                           Embedding  \n",
       "0  [-0.018374031, -0.02516927, 0.008701543, -0.08...  \n",
       "1  [-0.0065157767, -0.01013894, -0.016297542, -0....  \n",
       "2  [-0.017278872, -0.0012698264, 0.00483831, -0.1...  \n",
       "3  [-0.0070417165, 0.008862875, 0.03743299, -0.08...  \n",
       "4  [-0.0697444, 0.030223556, 0.0025628584, -0.076...  "
      ]
     },
     "execution_count": 16,
     "metadata": {},
     "output_type": "execute_result"
    }
   ],
   "source": [
    "q_train_df.head()"
   ]
  },
  {
   "cell_type": "code",
   "execution_count": 17,
   "id": "7219d67f",
   "metadata": {},
   "outputs": [],
   "source": [
    "q_train_df.to_csv(\"data/q_train_df.csv\", sep=\"|\", index=False)"
   ]
  },
  {
   "cell_type": "markdown",
   "id": "ec94aaf5",
   "metadata": {},
   "source": [
    "### Embeddings for TEST Set Questions"
   ]
  },
  {
   "cell_type": "code",
   "execution_count": 18,
   "id": "f9ccd97c",
   "metadata": {},
   "outputs": [
    {
     "name": "stderr",
     "output_type": "stream",
     "text": [
      "C:\\Users\\Abylay\\AppData\\Local\\anaconda3\\lib\\site-packages\\huggingface_hub\\file_download.py:1132: FutureWarning: `resume_download` is deprecated and will be removed in version 1.0.0. Downloads always resume when possible. If you want to force a new download, use `force_download=True`.\n",
      "  warnings.warn(\n"
     ]
    },
    {
     "name": "stdout",
     "output_type": "stream",
     "text": [
      "Started tokenizing...\n",
      "... +500 embeddings done. Time spend: 1.3173024654388428\n",
      "... +500 embeddings done. Time spend: 6.843916177749634\n",
      "... +500 embeddings done. Time spend: 6.475721597671509\n",
      "... +500 embeddings done. Time spend: 6.59215784072876\n",
      "... +500 embeddings done. Time spend: 6.543044090270996\n"
     ]
    }
   ],
   "source": [
    "# Load model from HuggingFace Hub\n",
    "tokenizer = AutoTokenizer.from_pretrained('BAAI/bge-small-en-v1.5')\n",
    "model = AutoModel.from_pretrained('BAAI/bge-small-en-v1.5')\n",
    "model.eval()\n",
    "\n",
    "print(\"Started tokenizing...\")\n",
    "all_q_test_embeddings = torch.randn(0)\n",
    "start = time()\n",
    "\n",
    "# Tokenize sentences\n",
    "for i in range(q_test.shape[0] // 100 + 1):\n",
    "    #print(i)\n",
    "    encoded_input = tokenizer(list(q_test[i*100:min(i*100+100, q_test.shape[0])]), padding=True, truncation=True, return_tensors='pt')\n",
    "    # for s2p(short query to long passage) retrieval task, add an instruction to query (not add instruction for passages)\n",
    "    # encoded_input = tokenizer([instruction + q for q in queries], padding=True, truncation=True, return_tensors='pt')\n",
    "    \n",
    "    # Compute token embeddings\n",
    "    with torch.no_grad():\n",
    "        model_output = model(**encoded_input)\n",
    "        # Perform pooling. In this case, cls pooling.\n",
    "        q_test_embeddings = model_output[0][:, 0]\n",
    "    # normalize embeddings\n",
    "    q_test_embeddings = torch.nn.functional.normalize(q_test_embeddings, p=2, dim=1)\n",
    "    all_q_test_embeddings = torch.cat((all_q_test_embeddings, q_test_embeddings), dim=0)\n",
    "    \n",
    "    if i % 5 == 0:\n",
    "        print(\"... +500 embeddings done. Time spend:\", time() - start)\n",
    "        start = time()\n",
    "    #print(\"Sentence embeddings:\", sentence_embeddings)\n",
    "    #print(type(sentence_embeddings))"
   ]
  },
  {
   "cell_type": "code",
   "execution_count": 27,
   "id": "d831523d",
   "metadata": {},
   "outputs": [],
   "source": [
    "all_q_test_embeddings2 = all_q_test_embeddings.clone()"
   ]
  },
  {
   "cell_type": "code",
   "execution_count": 30,
   "id": "769a624b",
   "metadata": {},
   "outputs": [],
   "source": [
    "q_test_df = pd.DataFrame(data=[q_test, all_q_test_embeddings2]).T\n",
    "q_test_df.columns = [\"Question\", \"Embedding\"]"
   ]
  },
  {
   "cell_type": "code",
   "execution_count": 31,
   "id": "d15b797e",
   "metadata": {},
   "outputs": [],
   "source": [
    "for i in range(q_test_df.shape[0]):\n",
    "    q_test_df[\"Embedding\"][i] = str(list(q_test_df[\"Embedding\"][i].numpy()))"
   ]
  },
  {
   "cell_type": "code",
   "execution_count": 32,
   "id": "353e8cee",
   "metadata": {},
   "outputs": [
    {
     "data": {
      "text/html": [
       "<div>\n",
       "<style scoped>\n",
       "    .dataframe tbody tr th:only-of-type {\n",
       "        vertical-align: middle;\n",
       "    }\n",
       "\n",
       "    .dataframe tbody tr th {\n",
       "        vertical-align: top;\n",
       "    }\n",
       "\n",
       "    .dataframe thead th {\n",
       "        text-align: right;\n",
       "    }\n",
       "</style>\n",
       "<table border=\"1\" class=\"dataframe\">\n",
       "  <thead>\n",
       "    <tr style=\"text-align: right;\">\n",
       "      <th></th>\n",
       "      <th>Question</th>\n",
       "      <th>Embedding</th>\n",
       "    </tr>\n",
       "  </thead>\n",
       "  <tbody>\n",
       "    <tr>\n",
       "      <th>0</th>\n",
       "      <td>Who became king in 1643?</td>\n",
       "      <td>[-0.043172576, 0.06543647, 0.053647112, 0.0173...</td>\n",
       "    </tr>\n",
       "    <tr>\n",
       "      <th>1</th>\n",
       "      <td>What was the first team Peyton Manning began p...</td>\n",
       "      <td>[0.0154337315, 0.024577715, -0.019312672, -0.0...</td>\n",
       "    </tr>\n",
       "    <tr>\n",
       "      <th>2</th>\n",
       "      <td>What was East and Central Africa's economy boo...</td>\n",
       "      <td>[-0.096133806, 0.05678508, 0.08325848, 0.03994...</td>\n",
       "    </tr>\n",
       "    <tr>\n",
       "      <th>3</th>\n",
       "      <td>How many buildings were razed by the Jacksonvi...</td>\n",
       "      <td>[0.011810559, 0.02840623, 0.024501665, 0.00578...</td>\n",
       "    </tr>\n",
       "    <tr>\n",
       "      <th>4</th>\n",
       "      <td>What year was the first manned flight with the...</td>\n",
       "      <td>[-0.0056205806, 0.04971382, 0.030576339, -0.01...</td>\n",
       "    </tr>\n",
       "  </tbody>\n",
       "</table>\n",
       "</div>"
      ],
      "text/plain": [
       "                                            Question  \\\n",
       "0                           Who became king in 1643?   \n",
       "1  What was the first team Peyton Manning began p...   \n",
       "2  What was East and Central Africa's economy boo...   \n",
       "3  How many buildings were razed by the Jacksonvi...   \n",
       "4  What year was the first manned flight with the...   \n",
       "\n",
       "                                           Embedding  \n",
       "0  [-0.043172576, 0.06543647, 0.053647112, 0.0173...  \n",
       "1  [0.0154337315, 0.024577715, -0.019312672, -0.0...  \n",
       "2  [-0.096133806, 0.05678508, 0.08325848, 0.03994...  \n",
       "3  [0.011810559, 0.02840623, 0.024501665, 0.00578...  \n",
       "4  [-0.0056205806, 0.04971382, 0.030576339, -0.01...  "
      ]
     },
     "execution_count": 32,
     "metadata": {},
     "output_type": "execute_result"
    }
   ],
   "source": [
    "q_test_df.to_csv(\"data/q_test_df.csv\", sep=\"|\", index=False)\n",
    "q_test_df.head()"
   ]
  },
  {
   "cell_type": "code",
   "execution_count": 33,
   "id": "1a2d37ef",
   "metadata": {},
   "outputs": [
    {
     "data": {
      "text/plain": [
       "'[-0.043172576, 0.06543647, 0.053647112, 0.017358074, -0.045584247, -0.036809586, 0.05786139, -0.02233542, 0.024832828, 0.06868153, -0.04989235, -0.081219316, 0.008540585, 0.017319588, 0.016747413, 0.008157038, -0.0729912, 0.0018113824, -0.08499822, 0.010650749, -0.023922112, -0.011038568, -0.019761417, -0.00036382923, -0.021959381, 0.03473124, -0.01353981, -0.0036404445, -0.0379686, -0.14944267, 0.010403878, -0.053879917, -0.0071740216, -0.027206777, 0.017003475, -0.03412664, -0.037623383, 0.09063295, 0.0030004436, 0.0020091769, 0.020919684, -0.009820057, 0.007557644, -0.021220984, 0.030739235, 0.00034525324, 0.044423718, 0.018096896, 0.06996212, 0.014564461, -0.039175212, 0.00954258, 0.029441247, -0.020658072, 0.04527804, 0.0014772442, 0.047443144, 0.043305106, 0.14558265, -0.027107194, 0.027091546, 0.046264607, -0.2052702, 0.05143712, -0.058162436, 0.029946428, 0.010979159, -0.03875284, -0.044451628, 0.028309936, -0.036944523, -0.02037264, 0.0104134735, -0.004894026, -0.032228902, 0.028555209, -0.08830098, 0.06017352, 0.04063509, -0.009074343, -0.00569107, 0.041258294, -0.0006012896, 0.010131771, -0.06816257, 0.01527871, -0.016501198, -0.048578836, -0.004442365, -0.010602551, 0.031115528, 0.022924526, 0.037537042, 0.019050287, -0.10200153, 0.0063948375, 0.0048658694, 0.0160887, 0.0023999207, 0.2812997, -0.020170897, 0.0013950777, -0.019053617, 0.03237536, 0.023285514, -0.034297496, -0.06564983, 0.008746694, -0.017817814, 0.01313825, 0.010167391, -0.08108735, 0.04848717, -0.014839394, 0.0109814545, 0.039491005, -0.0087084975, 0.01808006, -0.02736095, 0.05783699, 0.008720501, 0.015226227, 0.029163085, 0.00994608, 0.07198832, 0.0624218, 0.0660718, 0.054282155, 0.045299124, -0.07084327, 0.0049256017, 0.12707213, -0.014792594, 0.012001764, -0.016911583, -0.05158921, 0.0079045, -0.02872658, 0.022673026, -0.09365278, -0.1275543, -0.049221393, -0.075327076, -0.020360293, -0.05002462, -0.06875581, -0.010226197, 0.00027544648, -0.04915389, 0.04574576, 0.00027101982, 0.0023708711, -0.0036926041, -0.03745881, 0.05318195, 0.002231579, 0.07761988, 0.090048306, 0.07160143, -0.04660952, 0.0016320874, -0.009684858, -0.049357604, 0.073135145, 0.06577801, -0.0941887, -0.025247287, 0.023617795, -0.044964902, 0.0028300225, 0.0037359558, 0.055893667, -0.07225853, 0.010860547, 0.09349876, -0.0055271215, -0.010440308, -0.06416437, -0.016598212, -0.029781373, 0.061035752, -0.050866436, -0.0625702, -0.04847439, 0.03523744, 0.016129546, -0.03229472, 0.007480319, 0.004671935, 0.033731867, 0.1083463, 0.09874924, -0.04707786, -0.042987112, -0.016799059, 0.009730369, -0.084804974, 0.025405677, 0.00573444, -0.012486152, -0.046656165, -0.042674955, 0.007399119, 0.06333267, -0.053914633, -0.039426237, 0.019875068, 0.064669214, 0.021712368, 0.04173775, -0.020155532, 0.02767479, -0.02158689, -0.06452802, 0.019145826, 0.02079729, -0.012067358, 0.009117307, -0.05070916, -0.013613721, 0.008823695, -0.096763305, 0.04157249, -0.24183074, -0.043971065, 0.024092006, -0.019678459, 0.0364932, -0.033355586, 0.048319858, 0.045714084, 0.013451, -0.044465773, 0.024236046, -0.001185041, -0.009938325, 0.15301251, 0.017646609, 0.034172922, 0.027272206, 0.034436874, -0.0337695, 0.009050023, 0.03655805, 0.016873116, -0.13180256, -0.033440545, 0.01943547, 0.049997337, 0.11975685, -0.01309921, 0.03706338, 0.089988224, 0.12173197, 0.036182094, 0.006610926, -0.095584095, 0.028584665, 0.05039634, 0.054273624, 0.039664708, -0.027213454, 0.0068638176, 0.04767702, 0.042177275, -0.03896639, 0.020237952, -0.016338293, 0.0153943775, 0.03988963, 0.04236137, -0.026013443, 0.050973844, 0.043157008, 0.021605022, 0.02783092, -0.05212903, 0.0026354962, 0.0024271307, -0.02169488, -0.013352671, 0.008303134, 0.02652233, -0.0064329114, -0.020072995, -0.047939803, 0.019285005, -0.05942051, -0.031657685, -0.048047464, -0.01605948, -0.060446493, -0.04498267, -0.050552547, -0.06981624, -0.020929435, -0.096266836, 0.00761101, 0.090433374, 0.0006923512, -0.031821866, 0.011853857, -0.0089413505, -0.08275408, -0.035100885, 0.009074182, -0.022683477, -0.06718482, 0.019858107, -0.0023110863, 0.069797404, -0.02693926, -0.055546705, -0.031143153, -0.06508607, -0.0015533855, 0.009159155, -0.0025319033, 0.025498116, -0.17083307, 0.005992832, 0.049982253, 0.025139602, -0.030633202, 0.021979865, -0.008045474, 0.07771693, -0.039889973, 0.017258279, 0.085310556, -0.018045666, -0.02083023, 0.041742202, -0.009429409, -0.018616099, -0.022923183, 0.00126714, -0.034654636, -0.01847722, 0.039253324, 0.006844309, 0.10278273, -0.037101272, 0.0135077955, 0.032017052, 0.012360756, 0.03421734, -0.045803037, -0.04246317, -0.02497716, 0.017972598, 0.12053778, -0.010203765, 0.03288782, 0.028687969, -0.03415503, 0.035026934, -0.07868404, 0.042331226, -0.06556334, 0.07557619, -0.005149752, -0.021182554, 0.031086566, 0.057109397, 0.0063107754, -0.024092926, 0.018363016, 0.04786068, 0.00041995378, 0.036453363, -0.03534446, 0.089848235, -0.046554685, 0.0055625336, -0.043549888, 0.02566345, 0.061235372, 0.021791376, -0.030690435, -0.08050123, 0.021816678, -0.024251923, -0.025783407]'"
      ]
     },
     "execution_count": 33,
     "metadata": {},
     "output_type": "execute_result"
    }
   ],
   "source": [
    "q_test_df[\"Embedding\"][0]"
   ]
  },
  {
   "cell_type": "markdown",
   "id": "6036d23a",
   "metadata": {},
   "source": [
    "### Design Database"
   ]
  },
  {
   "cell_type": "code",
   "execution_count": 73,
   "id": "445bcb03",
   "metadata": {},
   "outputs": [
    {
     "name": "stdout",
     "output_type": "stream",
     "text": [
      "Note: you may need to restart the kernel to use updated packages.\n",
      "Note: you may need to restart the kernel to use updated packages.\n",
      "Note: you may need to restart the kernel to use updated packages.\n",
      "Note: you may need to restart the kernel to use updated packages.\n"
     ]
    }
   ],
   "source": [
    "%pip install --upgrade --quiet  pgvector\n",
    "%pip install --upgrade --quiet  langchain-openai\n",
    "%pip install --upgrade --quiet  psycopg2-binary\n",
    "%pip install --upgrade --quiet  tiktoken"
   ]
  },
  {
   "cell_type": "code",
   "execution_count": 74,
   "id": "c11a643e",
   "metadata": {},
   "outputs": [],
   "source": [
    "# this is to import all necessary modules\n",
    "import requests\n",
    "import matplotlib.pyplot as plt\n",
    "import openai, json, tiktoken, psycopg2, ast, pgvector, math, os, random\n",
    "\n",
    "from langchain.vectorstores.pgvector import PGVector\n",
    "from psycopg2.extras import execute_values\n",
    "from sqlalchemy import create_engine\n",
    "from time import time\n",
    "#from pgvector.psycopg2 import register_vector\n",
    "#%load_ext sql"
   ]
  },
  {
   "cell_type": "code",
   "execution_count": 94,
   "id": "d78db20e",
   "metadata": {},
   "outputs": [],
   "source": [
    "conn_string = \"host='localhost' dbname='imdb_top' user='postgres' password='test'\"\n",
    "conn = psycopg2.connect(conn_string)\n",
    "cur = conn.cursor()"
   ]
  },
  {
   "cell_type": "code",
   "execution_count": 118,
   "id": "50161e9e",
   "metadata": {},
   "outputs": [],
   "source": [
    "cur = conn.cursor()\n",
    "cur.execute(\"ROLLBACK\")\n",
    "conn.commit()"
   ]
  },
  {
   "cell_type": "code",
   "execution_count": 119,
   "id": "af91b7b6",
   "metadata": {},
   "outputs": [],
   "source": [
    "query = \"\"\"\n",
    "    DROP TABLE IF EXISTS squad_articles;\n",
    "\n",
    "    CREATE TABLE IF NOT EXISTS squad_articles (\n",
    "        title_ID INTEGER,\n",
    "        titles VARCHAR(200), \n",
    "        content TEXT,\n",
    "        embedding VECTOR(384)\n",
    "    );\n",
    "\n",
    "    COPY squad_articles\n",
    "    FROM '/articles.csv' \n",
    "    DELIMITER '|' CSV;\n",
    "\"\"\""
   ]
  },
  {
   "cell_type": "code",
   "execution_count": 120,
   "id": "c527152e",
   "metadata": {},
   "outputs": [],
   "source": [
    "cur.execute(query)\n",
    "conn.commit()"
   ]
  },
  {
   "cell_type": "code",
   "execution_count": 88,
   "id": "d7b16c33",
   "metadata": {},
   "outputs": [
    {
     "name": "stdout",
     "output_type": "stream",
     "text": [
      "2067\n"
     ]
    }
   ],
   "source": [
    "for i in range(articles.shape[0]):\n",
    "    if type(articles[\"Embedding\"][i]) != type(np.array([])):\n",
    "        print(type(articles[\"Embedding\"][i]))\n",
    "#print(articles.shape[0])"
   ]
  },
  {
   "cell_type": "code",
   "execution_count": 89,
   "id": "dfae43cf",
   "metadata": {},
   "outputs": [
    {
     "data": {
      "text/html": [
       "<div>\n",
       "<style scoped>\n",
       "    .dataframe tbody tr th:only-of-type {\n",
       "        vertical-align: middle;\n",
       "    }\n",
       "\n",
       "    .dataframe tbody tr th {\n",
       "        vertical-align: top;\n",
       "    }\n",
       "\n",
       "    .dataframe thead th {\n",
       "        text-align: right;\n",
       "    }\n",
       "</style>\n",
       "<table border=\"1\" class=\"dataframe\">\n",
       "  <thead>\n",
       "    <tr style=\"text-align: right;\">\n",
       "      <th></th>\n",
       "      <th>Titles</th>\n",
       "      <th>Content</th>\n",
       "      <th>Embedding</th>\n",
       "    </tr>\n",
       "  </thead>\n",
       "  <tbody>\n",
       "    <tr>\n",
       "      <th>0</th>\n",
       "      <td>Super_Bowl_50</td>\n",
       "      <td>Super Bowl 50 was an American football game to...</td>\n",
       "      <td>[-0.18496414, 0.6551217, 0.20338096, -0.459793...</td>\n",
       "    </tr>\n",
       "    <tr>\n",
       "      <th>1</th>\n",
       "      <td>Super_Bowl_50</td>\n",
       "      <td>The Panthers finished the regular season with ...</td>\n",
       "      <td>[0.1856204, 0.48492086, -0.09557928, -0.699036...</td>\n",
       "    </tr>\n",
       "    <tr>\n",
       "      <th>2</th>\n",
       "      <td>Super_Bowl_50</td>\n",
       "      <td>The Broncos took an early lead in Super Bowl 5...</td>\n",
       "      <td>[-0.42100757, 0.6728958, 0.20258255, -0.928931...</td>\n",
       "    </tr>\n",
       "    <tr>\n",
       "      <th>3</th>\n",
       "      <td>Super_Bowl_50</td>\n",
       "      <td>CBS broadcast Super Bowl 50 in the U.S., and c...</td>\n",
       "      <td>[-0.03190776, 0.06583987, 0.24414025, -1.04467...</td>\n",
       "    </tr>\n",
       "    <tr>\n",
       "      <th>4</th>\n",
       "      <td>Super_Bowl_50</td>\n",
       "      <td>In early 2012, NFL Commissioner Roger Goodell ...</td>\n",
       "      <td>[-0.33727553, -0.006797987, -0.066093445, -1.0...</td>\n",
       "    </tr>\n",
       "    <tr>\n",
       "      <th>...</th>\n",
       "      <td>...</td>\n",
       "      <td>...</td>\n",
       "      <td>...</td>\n",
       "    </tr>\n",
       "    <tr>\n",
       "      <th>2062</th>\n",
       "      <td>Force</td>\n",
       "      <td>where  is the mass of the object,  is the velo...</td>\n",
       "      <td>[-0.3365962, -0.46805736, -0.02764538, 0.24325...</td>\n",
       "    </tr>\n",
       "    <tr>\n",
       "      <th>2063</th>\n",
       "      <td>Force</td>\n",
       "      <td>A conservative force that acts on a closed sys...</td>\n",
       "      <td>[-0.6067321, -0.30440584, 0.033170737, 0.32737...</td>\n",
       "    </tr>\n",
       "    <tr>\n",
       "      <th>2064</th>\n",
       "      <td>Force</td>\n",
       "      <td>For certain physical scenarios, it is impossib...</td>\n",
       "      <td>[-0.7290247, 0.0688544, -0.105723664, 0.220050...</td>\n",
       "    </tr>\n",
       "    <tr>\n",
       "      <th>2065</th>\n",
       "      <td>Force</td>\n",
       "      <td>The connection between macroscopic nonconserva...</td>\n",
       "      <td>[-0.366291, -0.14309838, -0.045113474, -0.0462...</td>\n",
       "    </tr>\n",
       "    <tr>\n",
       "      <th>2066</th>\n",
       "      <td>Force</td>\n",
       "      <td>The pound-force has a metric counterpart, less...</td>\n",
       "      <td>[-0.2505324, -0.26432195, 0.72384614, 0.055905...</td>\n",
       "    </tr>\n",
       "  </tbody>\n",
       "</table>\n",
       "<p>2067 rows × 3 columns</p>\n",
       "</div>"
      ],
      "text/plain": [
       "             Titles                                            Content  \\\n",
       "0     Super_Bowl_50  Super Bowl 50 was an American football game to...   \n",
       "1     Super_Bowl_50  The Panthers finished the regular season with ...   \n",
       "2     Super_Bowl_50  The Broncos took an early lead in Super Bowl 5...   \n",
       "3     Super_Bowl_50  CBS broadcast Super Bowl 50 in the U.S., and c...   \n",
       "4     Super_Bowl_50  In early 2012, NFL Commissioner Roger Goodell ...   \n",
       "...             ...                                                ...   \n",
       "2062          Force  where  is the mass of the object,  is the velo...   \n",
       "2063          Force  A conservative force that acts on a closed sys...   \n",
       "2064          Force  For certain physical scenarios, it is impossib...   \n",
       "2065          Force  The connection between macroscopic nonconserva...   \n",
       "2066          Force  The pound-force has a metric counterpart, less...   \n",
       "\n",
       "                                              Embedding  \n",
       "0     [-0.18496414, 0.6551217, 0.20338096, -0.459793...  \n",
       "1     [0.1856204, 0.48492086, -0.09557928, -0.699036...  \n",
       "2     [-0.42100757, 0.6728958, 0.20258255, -0.928931...  \n",
       "3     [-0.03190776, 0.06583987, 0.24414025, -1.04467...  \n",
       "4     [-0.33727553, -0.006797987, -0.066093445, -1.0...  \n",
       "...                                                 ...  \n",
       "2062  [-0.3365962, -0.46805736, -0.02764538, 0.24325...  \n",
       "2063  [-0.6067321, -0.30440584, 0.033170737, 0.32737...  \n",
       "2064  [-0.7290247, 0.0688544, -0.105723664, 0.220050...  \n",
       "2065  [-0.366291, -0.14309838, -0.045113474, -0.0462...  \n",
       "2066  [-0.2505324, -0.26432195, 0.72384614, 0.055905...  \n",
       "\n",
       "[2067 rows x 3 columns]"
      ]
     },
     "execution_count": 89,
     "metadata": {},
     "output_type": "execute_result"
    }
   ],
   "source": [
    "articles"
   ]
  },
  {
   "cell_type": "code",
   "execution_count": null,
   "id": "adb9a8c7",
   "metadata": {},
   "outputs": [],
   "source": []
  }
 ],
 "metadata": {
  "kernelspec": {
   "display_name": "Python 3 (ipykernel)",
   "language": "python",
   "name": "python3"
  },
  "language_info": {
   "codemirror_mode": {
    "name": "ipython",
    "version": 3
   },
   "file_extension": ".py",
   "mimetype": "text/x-python",
   "name": "python",
   "nbconvert_exporter": "python",
   "pygments_lexer": "ipython3",
   "version": "3.10.12"
  }
 },
 "nbformat": 4,
 "nbformat_minor": 5
}
