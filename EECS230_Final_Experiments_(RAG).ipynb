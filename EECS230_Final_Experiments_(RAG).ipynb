{
 "cells": [
  {
   "cell_type": "markdown",
   "id": "501a858c",
   "metadata": {},
   "source": [
    "# RAG Experiments"
   ]
  },
  {
   "cell_type": "markdown",
   "id": "9a09d4d3",
   "metadata": {},
   "source": [
    "### Importing Libraries and Loading Data"
   ]
  },
  {
   "cell_type": "code",
   "execution_count": 1,
   "id": "25ceb7cd",
   "metadata": {},
   "outputs": [],
   "source": [
    "import pandas as pd, numpy as np, matplotlib.pyplot as plt"
   ]
  },
  {
   "cell_type": "code",
   "execution_count": 2,
   "id": "4708aba7",
   "metadata": {},
   "outputs": [
    {
     "data": {
      "text/html": [
       "<div>\n",
       "<style scoped>\n",
       "    .dataframe tbody tr th:only-of-type {\n",
       "        vertical-align: middle;\n",
       "    }\n",
       "\n",
       "    .dataframe tbody tr th {\n",
       "        vertical-align: top;\n",
       "    }\n",
       "\n",
       "    .dataframe thead th {\n",
       "        text-align: right;\n",
       "    }\n",
       "</style>\n",
       "<table border=\"1\" class=\"dataframe\">\n",
       "  <thead>\n",
       "    <tr style=\"text-align: right;\">\n",
       "      <th></th>\n",
       "      <th>Question</th>\n",
       "      <th>Embedding</th>\n",
       "    </tr>\n",
       "  </thead>\n",
       "  <tbody>\n",
       "    <tr>\n",
       "      <th>0</th>\n",
       "      <td>Which NFL team represented the AFC at Super Bo...</td>\n",
       "      <td>[-0.018374031, -0.02516927, 0.008701543, -0.08...</td>\n",
       "    </tr>\n",
       "    <tr>\n",
       "      <th>1</th>\n",
       "      <td>Which NFL team represented the NFC at Super Bo...</td>\n",
       "      <td>[-0.0065157767, -0.01013894, -0.016297542, -0....</td>\n",
       "    </tr>\n",
       "    <tr>\n",
       "      <th>2</th>\n",
       "      <td>Where did Super Bowl 50 take place?</td>\n",
       "      <td>[-0.017278872, -0.0012698264, 0.00483831, -0.1...</td>\n",
       "    </tr>\n",
       "    <tr>\n",
       "      <th>3</th>\n",
       "      <td>Which NFL team won Super Bowl 50?</td>\n",
       "      <td>[-0.0070417165, 0.008862875, 0.03743299, -0.08...</td>\n",
       "    </tr>\n",
       "    <tr>\n",
       "      <th>4</th>\n",
       "      <td>What color was used to emphasize the 50th anni...</td>\n",
       "      <td>[-0.0697444, 0.030223556, 0.0025628584, -0.076...</td>\n",
       "    </tr>\n",
       "  </tbody>\n",
       "</table>\n",
       "</div>"
      ],
      "text/plain": [
       "                                            Question  \\\n",
       "0  Which NFL team represented the AFC at Super Bo...   \n",
       "1  Which NFL team represented the NFC at Super Bo...   \n",
       "2                Where did Super Bowl 50 take place?   \n",
       "3                  Which NFL team won Super Bowl 50?   \n",
       "4  What color was used to emphasize the 50th anni...   \n",
       "\n",
       "                                           Embedding  \n",
       "0  [-0.018374031, -0.02516927, 0.008701543, -0.08...  \n",
       "1  [-0.0065157767, -0.01013894, -0.016297542, -0....  \n",
       "2  [-0.017278872, -0.0012698264, 0.00483831, -0.1...  \n",
       "3  [-0.0070417165, 0.008862875, 0.03743299, -0.08...  \n",
       "4  [-0.0697444, 0.030223556, 0.0025628584, -0.076...  "
      ]
     },
     "execution_count": 2,
     "metadata": {},
     "output_type": "execute_result"
    }
   ],
   "source": [
    "q_train = pd.read_csv(\"data/q_train_df.csv\", sep=\"|\")\n",
    "q_test = pd.read_csv(\"data/q_test_df.csv\", sep=\"|\")\n",
    "q_train.head()"
   ]
  },
  {
   "cell_type": "markdown",
   "id": "fe7f3dff",
   "metadata": {},
   "source": [
    "### Connect to DataBase"
   ]
  },
  {
   "cell_type": "code",
   "execution_count": 3,
   "id": "4a391924",
   "metadata": {},
   "outputs": [
    {
     "name": "stdout",
     "output_type": "stream",
     "text": [
      "Note: you may need to restart the kernel to use updated packages.\n"
     ]
    },
    {
     "name": "stderr",
     "output_type": "stream",
     "text": [
      "WARNING: Retrying (Retry(total=4, connect=None, read=None, redirect=None, status=None)) after connection broken by 'NewConnectionError('<pip._vendor.urllib3.connection.HTTPSConnection object at 0x000001F1680241F0>: Failed to establish a new connection: [Errno 11001] getaddrinfo failed')': /simple/pgvector/\n",
      "WARNING: Retrying (Retry(total=3, connect=None, read=None, redirect=None, status=None)) after connection broken by 'NewConnectionError('<pip._vendor.urllib3.connection.HTTPSConnection object at 0x000001F1680244F0>: Failed to establish a new connection: [Errno 11001] getaddrinfo failed')': /simple/pgvector/\n",
      "WARNING: Retrying (Retry(total=2, connect=None, read=None, redirect=None, status=None)) after connection broken by 'NewConnectionError('<pip._vendor.urllib3.connection.HTTPSConnection object at 0x000001F168024820>: Failed to establish a new connection: [Errno 11001] getaddrinfo failed')': /simple/pgvector/\n",
      "WARNING: Retrying (Retry(total=1, connect=None, read=None, redirect=None, status=None)) after connection broken by 'NewConnectionError('<pip._vendor.urllib3.connection.HTTPSConnection object at 0x000001F1680249D0>: Failed to establish a new connection: [Errno 11001] getaddrinfo failed')': /simple/pgvector/\n",
      "WARNING: Retrying (Retry(total=0, connect=None, read=None, redirect=None, status=None)) after connection broken by 'NewConnectionError('<pip._vendor.urllib3.connection.HTTPSConnection object at 0x000001F168024B80>: Failed to establish a new connection: [Errno 11001] getaddrinfo failed')': /simple/pgvector/\n"
     ]
    },
    {
     "name": "stdout",
     "output_type": "stream",
     "text": [
      "Note: you may need to restart the kernel to use updated packages.\n"
     ]
    },
    {
     "name": "stderr",
     "output_type": "stream",
     "text": [
      "WARNING: Retrying (Retry(total=4, connect=None, read=None, redirect=None, status=None)) after connection broken by 'NewConnectionError('<pip._vendor.urllib3.connection.HTTPSConnection object at 0x000002381DE64250>: Failed to establish a new connection: [Errno 11001] getaddrinfo failed')': /simple/langchain-openai/\n",
      "WARNING: Retrying (Retry(total=3, connect=None, read=None, redirect=None, status=None)) after connection broken by 'NewConnectionError('<pip._vendor.urllib3.connection.HTTPSConnection object at 0x000002381DE64550>: Failed to establish a new connection: [Errno 11001] getaddrinfo failed')': /simple/langchain-openai/\n",
      "WARNING: Retrying (Retry(total=2, connect=None, read=None, redirect=None, status=None)) after connection broken by 'NewConnectionError('<pip._vendor.urllib3.connection.HTTPSConnection object at 0x000002381DE64880>: Failed to establish a new connection: [Errno 11001] getaddrinfo failed')': /simple/langchain-openai/\n",
      "WARNING: Retrying (Retry(total=1, connect=None, read=None, redirect=None, status=None)) after connection broken by 'NewConnectionError('<pip._vendor.urllib3.connection.HTTPSConnection object at 0x000002381DE64A30>: Failed to establish a new connection: [Errno 11001] getaddrinfo failed')': /simple/langchain-openai/\n",
      "WARNING: Retrying (Retry(total=0, connect=None, read=None, redirect=None, status=None)) after connection broken by 'NewConnectionError('<pip._vendor.urllib3.connection.HTTPSConnection object at 0x000002381DE64BE0>: Failed to establish a new connection: [Errno 11001] getaddrinfo failed')': /simple/langchain-openai/\n"
     ]
    },
    {
     "name": "stdout",
     "output_type": "stream",
     "text": [
      "Note: you may need to restart the kernel to use updated packages.\n"
     ]
    },
    {
     "name": "stderr",
     "output_type": "stream",
     "text": [
      "WARNING: Retrying (Retry(total=4, connect=None, read=None, redirect=None, status=None)) after connection broken by 'NewConnectionError('<pip._vendor.urllib3.connection.HTTPSConnection object at 0x000002458A3C4250>: Failed to establish a new connection: [Errno 11001] getaddrinfo failed')': /simple/psycopg2-binary/\n",
      "WARNING: Retrying (Retry(total=3, connect=None, read=None, redirect=None, status=None)) after connection broken by 'NewConnectionError('<pip._vendor.urllib3.connection.HTTPSConnection object at 0x000002458A3C4550>: Failed to establish a new connection: [Errno 11001] getaddrinfo failed')': /simple/psycopg2-binary/\n",
      "WARNING: Retrying (Retry(total=2, connect=None, read=None, redirect=None, status=None)) after connection broken by 'NewConnectionError('<pip._vendor.urllib3.connection.HTTPSConnection object at 0x000002458A3C4880>: Failed to establish a new connection: [Errno 11001] getaddrinfo failed')': /simple/psycopg2-binary/\n",
      "WARNING: Retrying (Retry(total=1, connect=None, read=None, redirect=None, status=None)) after connection broken by 'NewConnectionError('<pip._vendor.urllib3.connection.HTTPSConnection object at 0x000002458A3C4A30>: Failed to establish a new connection: [Errno 11001] getaddrinfo failed')': /simple/psycopg2-binary/\n",
      "WARNING: Retrying (Retry(total=0, connect=None, read=None, redirect=None, status=None)) after connection broken by 'NewConnectionError('<pip._vendor.urllib3.connection.HTTPSConnection object at 0x000002458A3C4BE0>: Failed to establish a new connection: [Errno 11001] getaddrinfo failed')': /simple/psycopg2-binary/\n"
     ]
    },
    {
     "name": "stdout",
     "output_type": "stream",
     "text": [
      "Note: you may need to restart the kernel to use updated packages.\n"
     ]
    },
    {
     "name": "stderr",
     "output_type": "stream",
     "text": [
      "WARNING: Retrying (Retry(total=4, connect=None, read=None, redirect=None, status=None)) after connection broken by 'NewConnectionError('<pip._vendor.urllib3.connection.HTTPSConnection object at 0x0000012BC69C4220>: Failed to establish a new connection: [Errno 11001] getaddrinfo failed')': /simple/tiktoken/\n",
      "WARNING: Retrying (Retry(total=3, connect=None, read=None, redirect=None, status=None)) after connection broken by 'NewConnectionError('<pip._vendor.urllib3.connection.HTTPSConnection object at 0x0000012BC69C4520>: Failed to establish a new connection: [Errno 11001] getaddrinfo failed')': /simple/tiktoken/\n",
      "WARNING: Retrying (Retry(total=2, connect=None, read=None, redirect=None, status=None)) after connection broken by 'NewConnectionError('<pip._vendor.urllib3.connection.HTTPSConnection object at 0x0000012BC69C4850>: Failed to establish a new connection: [Errno 11001] getaddrinfo failed')': /simple/tiktoken/\n",
      "WARNING: Retrying (Retry(total=1, connect=None, read=None, redirect=None, status=None)) after connection broken by 'NewConnectionError('<pip._vendor.urllib3.connection.HTTPSConnection object at 0x0000012BC69C4A00>: Failed to establish a new connection: [Errno 11001] getaddrinfo failed')': /simple/tiktoken/\n",
      "WARNING: Retrying (Retry(total=0, connect=None, read=None, redirect=None, status=None)) after connection broken by 'NewConnectionError('<pip._vendor.urllib3.connection.HTTPSConnection object at 0x0000012BC69C4BB0>: Failed to establish a new connection: [Errno 11001] getaddrinfo failed')': /simple/tiktoken/\n"
     ]
    }
   ],
   "source": [
    "%pip install --upgrade --quiet  pgvector\n",
    "%pip install --upgrade --quiet  langchain-openai\n",
    "%pip install --upgrade --quiet  psycopg2-binary\n",
    "%pip install --upgrade --quiet  tiktoken"
   ]
  },
  {
   "cell_type": "code",
   "execution_count": 4,
   "id": "87f6b241",
   "metadata": {},
   "outputs": [],
   "source": [
    "# this is to import all necessary modules\n",
    "import requests\n",
    "import matplotlib.pyplot as plt\n",
    "import openai, json, tiktoken, psycopg2, ast, pgvector, math, os, random\n",
    "\n",
    "from langchain.vectorstores.pgvector import PGVector\n",
    "from psycopg2.extras import execute_values\n",
    "from sqlalchemy import create_engine\n",
    "from time import time\n",
    "#from pgvector.psycopg2 import register_vector\n",
    "#%load_ext sql"
   ]
  },
  {
   "cell_type": "code",
   "execution_count": 5,
   "id": "8b4bb568",
   "metadata": {},
   "outputs": [],
   "source": [
    "conn_string = \"host='localhost' dbname='imdb_top' user='postgres' password='test'\"\n",
    "conn = psycopg2.connect(conn_string)\n",
    "cur = conn.cursor()"
   ]
  },
  {
   "cell_type": "code",
   "execution_count": 14,
   "id": "010a1e5b",
   "metadata": {},
   "outputs": [],
   "source": [
    "cur = conn.cursor()\n",
    "cur.execute(\"ROLLBACK\")\n",
    "conn.commit()"
   ]
  },
  {
   "cell_type": "code",
   "execution_count": 23,
   "id": "8bbc7b53",
   "metadata": {},
   "outputs": [],
   "source": [
    "def get_article(vec, value=None):\n",
    "    query = f\"\"\"\n",
    "        SELECT content FROM (\n",
    "            SELECT content, embedding <=> '{vec}' AS cos_sim\n",
    "            FROM squad_articles\n",
    "            ORDER BY cos_sim\n",
    "            LIMIT 1\n",
    "        ) AS subquery;\n",
    "    \"\"\"\n",
    "\n",
    "    cur.execute(query)\n",
    "    conn.commit()\n",
    "    result = cur.fetchall()\n",
    "    return result[0][0]"
   ]
  },
  {
   "cell_type": "code",
   "execution_count": 57,
   "id": "0d07fcc5",
   "metadata": {},
   "outputs": [
    {
     "name": "stderr",
     "output_type": "stream",
     "text": [
      "C:\\Users\\Abylay\\AppData\\Local\\Temp\\ipykernel_29580\\3534837153.py:4: SettingWithCopyWarning: \n",
      "A value is trying to be set on a copy of a slice from a DataFrame\n",
      "\n",
      "See the caveats in the documentation: https://pandas.pydata.org/pandas-docs/stable/user_guide/indexing.html#returning-a-view-versus-a-copy\n",
      "  q_test[\"Question_Context\"][i] = q_test[\"Question\"][i] + \"\\n\\nYou may want to use the context:\\n\" + context\n"
     ]
    },
    {
     "name": "stdout",
     "output_type": "stream",
     "text": [
      "0\n",
      "100\n",
      "200\n",
      "300\n",
      "400\n",
      "500\n",
      "600\n",
      "700\n",
      "800\n",
      "900\n",
      "1000\n",
      "1100\n",
      "1200\n",
      "1300\n",
      "1400\n",
      "1500\n",
      "1600\n",
      "1700\n",
      "1800\n",
      "1900\n",
      "2000\n",
      "2100\n"
     ]
    }
   ],
   "source": [
    "q_test[\"Question_Context\"] = np.zeros(q_test.shape[0])\n",
    "for i in range(q_test.shape[0]):\n",
    "    context = get_article(q_test[\"Embedding\"][i])\n",
    "    q_test[\"Question_Context\"][i] = q_test[\"Question\"][i] + \"\\n\\nYou may want to use the context:\\n\" + context\n",
    "    if i % 100 == 0: print(i)\n",
    "    "
   ]
  },
  {
   "cell_type": "code",
   "execution_count": 58,
   "id": "177bd62e",
   "metadata": {},
   "outputs": [
    {
     "data": {
      "text/html": [
       "<div>\n",
       "<style scoped>\n",
       "    .dataframe tbody tr th:only-of-type {\n",
       "        vertical-align: middle;\n",
       "    }\n",
       "\n",
       "    .dataframe tbody tr th {\n",
       "        vertical-align: top;\n",
       "    }\n",
       "\n",
       "    .dataframe thead th {\n",
       "        text-align: right;\n",
       "    }\n",
       "</style>\n",
       "<table border=\"1\" class=\"dataframe\">\n",
       "  <thead>\n",
       "    <tr style=\"text-align: right;\">\n",
       "      <th></th>\n",
       "      <th>Question</th>\n",
       "      <th>Embedding</th>\n",
       "      <th>Question_Context</th>\n",
       "    </tr>\n",
       "  </thead>\n",
       "  <tbody>\n",
       "    <tr>\n",
       "      <th>0</th>\n",
       "      <td>Who became king in 1643?</td>\n",
       "      <td>[-0.043172576, 0.06543647, 0.053647112, 0.0173...</td>\n",
       "      <td>Who became king in 1643?\\n\\nYou may want to us...</td>\n",
       "    </tr>\n",
       "    <tr>\n",
       "      <th>1</th>\n",
       "      <td>What was the first team Peyton Manning began p...</td>\n",
       "      <td>[0.0154337315, 0.024577715, -0.019312672, -0.0...</td>\n",
       "      <td>What was the first team Peyton Manning began p...</td>\n",
       "    </tr>\n",
       "    <tr>\n",
       "      <th>2</th>\n",
       "      <td>What was East and Central Africa's economy boo...</td>\n",
       "      <td>[-0.096133806, 0.05678508, 0.08325848, 0.03994...</td>\n",
       "      <td>What was East and Central Africa's economy boo...</td>\n",
       "    </tr>\n",
       "    <tr>\n",
       "      <th>3</th>\n",
       "      <td>How many buildings were razed by the Jacksonvi...</td>\n",
       "      <td>[0.011810559, 0.02840623, 0.024501665, 0.00578...</td>\n",
       "      <td>How many buildings were razed by the Jacksonvi...</td>\n",
       "    </tr>\n",
       "    <tr>\n",
       "      <th>4</th>\n",
       "      <td>What year was the first manned flight with the...</td>\n",
       "      <td>[-0.0056205806, 0.04971382, 0.030576339, -0.01...</td>\n",
       "      <td>What year was the first manned flight with the...</td>\n",
       "    </tr>\n",
       "  </tbody>\n",
       "</table>\n",
       "</div>"
      ],
      "text/plain": [
       "                                            Question  \\\n",
       "0                           Who became king in 1643?   \n",
       "1  What was the first team Peyton Manning began p...   \n",
       "2  What was East and Central Africa's economy boo...   \n",
       "3  How many buildings were razed by the Jacksonvi...   \n",
       "4  What year was the first manned flight with the...   \n",
       "\n",
       "                                           Embedding  \\\n",
       "0  [-0.043172576, 0.06543647, 0.053647112, 0.0173...   \n",
       "1  [0.0154337315, 0.024577715, -0.019312672, -0.0...   \n",
       "2  [-0.096133806, 0.05678508, 0.08325848, 0.03994...   \n",
       "3  [0.011810559, 0.02840623, 0.024501665, 0.00578...   \n",
       "4  [-0.0056205806, 0.04971382, 0.030576339, -0.01...   \n",
       "\n",
       "                                    Question_Context  \n",
       "0  Who became king in 1643?\\n\\nYou may want to us...  \n",
       "1  What was the first team Peyton Manning began p...  \n",
       "2  What was East and Central Africa's economy boo...  \n",
       "3  How many buildings were razed by the Jacksonvi...  \n",
       "4  What year was the first manned flight with the...  "
      ]
     },
     "execution_count": 58,
     "metadata": {},
     "output_type": "execute_result"
    }
   ],
   "source": [
    "q_test.head()"
   ]
  },
  {
   "cell_type": "code",
   "execution_count": 19,
   "id": "8a6e71c3",
   "metadata": {},
   "outputs": [
    {
     "data": {
      "text/plain": [
       "str"
      ]
     },
     "execution_count": 19,
     "metadata": {},
     "output_type": "execute_result"
    }
   ],
   "source": [
    "type(q_test[\"Question\"][0])"
   ]
  },
  {
   "cell_type": "code",
   "execution_count": 25,
   "id": "2f03356b",
   "metadata": {},
   "outputs": [
    {
     "data": {
      "text/plain": [
       "array([0., 0., 0., ..., 0., 0., 0.])"
      ]
     },
     "execution_count": 25,
     "metadata": {},
     "output_type": "execute_result"
    }
   ],
   "source": [
    "np.zeros(q_test.shape[0])"
   ]
  },
  {
   "cell_type": "code",
   "execution_count": 30,
   "id": "d102236b",
   "metadata": {},
   "outputs": [
    {
     "data": {
      "text/plain": [
       "'There were two kinds of X.25 networks. Some such as DATAPAC and TRANSPAC were initially implemented with an X.25 external interface. Some older networks such as TELENET and TYMNET were modified to provide a X.25 host interface in addition to older host connection schemes. DATAPAC was developed by Bell Northern Research which was a joint venture of Bell Canada (a common carrier) and Northern Telecom (a telecommunications equipment supplier). Northern Telecom sold several DATAPAC clones to foreign PTTs including the Deutsche Bundespost. X.75 and X.121 allowed the interconnection of national X.25 networks. A user or host could call a host on a foreign network by including the DNIC of the remote network as part of the destination address.[citation needed]'"
      ]
     },
     "execution_count": 30,
     "metadata": {},
     "output_type": "execute_result"
    }
   ],
   "source": [
    "context"
   ]
  },
  {
   "cell_type": "code",
   "execution_count": 37,
   "id": "256a2428",
   "metadata": {},
   "outputs": [
    {
     "data": {
      "text/plain": [
       "\"What was East and Central Africa's economy boosted by?\\n\\nYou may use the following text as context:\\nEast and Central Africa's biggest economy has posted tremendous growth in the service sector, boosted by rapid expansion in telecommunication and financial activity over the last decade, and now[when?] contributes 62% of GDP. 22% of GDP still comes from the unreliable agricultural sector which employs 75% of the labour force (a consistent characteristic of under-developed economies that have not attained food security – an important catalyst of economic growth) A small portion of the population relies on food aid.[citation needed] Industry and manufacturing is the smallest sector, accounting for 16% of GDP. The service, industry and manufacturing sectors only employ 25% of the labour force but contribute 75% of GDP.\""
      ]
     },
     "execution_count": 37,
     "metadata": {},
     "output_type": "execute_result"
    }
   ],
   "source": [
    "q_test[\"Question_Context\"][2]"
   ]
  },
  {
   "cell_type": "code",
   "execution_count": 46,
   "id": "09bb0953",
   "metadata": {},
   "outputs": [],
   "source": [
    "q_test.to_csv(\"data/q_context.csv\", sep=\"|\", index=False)"
   ]
  },
  {
   "cell_type": "code",
   "execution_count": 47,
   "id": "7f1a4698",
   "metadata": {},
   "outputs": [
    {
     "data": {
      "text/plain": [
       "(2114, 3)"
      ]
     },
     "execution_count": 47,
     "metadata": {},
     "output_type": "execute_result"
    }
   ],
   "source": [
    "q_test.shape"
   ]
  },
  {
   "cell_type": "code",
   "execution_count": 48,
   "id": "3ac3d780",
   "metadata": {},
   "outputs": [],
   "source": [
    "q_test_load = pd.read_csv(\"data/q_context.csv\", sep=\"|\")"
   ]
  },
  {
   "cell_type": "code",
   "execution_count": 59,
   "id": "82b3c50a",
   "metadata": {},
   "outputs": [
    {
     "data": {
      "text/plain": [
       "(2114, 3)"
      ]
     },
     "execution_count": 59,
     "metadata": {},
     "output_type": "execute_result"
    }
   ],
   "source": [
    "q_test_load.shape"
   ]
  },
  {
   "cell_type": "code",
   "execution_count": 60,
   "id": "c683e47f",
   "metadata": {},
   "outputs": [
    {
     "name": "stderr",
     "output_type": "stream",
     "text": [
      "C:\\Users\\Abylay\\AppData\\Local\\Temp\\ipykernel_29580\\2442682239.py:4: SettingWithCopyWarning: \n",
      "A value is trying to be set on a copy of a slice from a DataFrame\n",
      "\n",
      "See the caveats in the documentation: https://pandas.pydata.org/pandas-docs/stable/user_guide/indexing.html#returning-a-view-versus-a-copy\n",
      "  q_train[\"Question_Context\"][i] = q_train[\"Question\"][i] + \"\\n\\nYou may want to use the context:\\n\" + context\n"
     ]
    },
    {
     "name": "stdout",
     "output_type": "stream",
     "text": [
      "0\n",
      "100\n",
      "200\n",
      "300\n",
      "400\n",
      "500\n",
      "600\n",
      "700\n",
      "800\n",
      "900\n",
      "1000\n",
      "1100\n",
      "1200\n",
      "1300\n",
      "1400\n",
      "1500\n",
      "1600\n",
      "1700\n",
      "1800\n",
      "1900\n",
      "2000\n",
      "2100\n",
      "2200\n",
      "2300\n",
      "2400\n",
      "2500\n",
      "2600\n",
      "2700\n",
      "2800\n",
      "2900\n",
      "3000\n",
      "3100\n",
      "3200\n",
      "3300\n",
      "3400\n",
      "3500\n",
      "3600\n",
      "3700\n",
      "3800\n",
      "3900\n",
      "4000\n",
      "4100\n",
      "4200\n",
      "4300\n",
      "4400\n",
      "4500\n",
      "4600\n",
      "4700\n",
      "4800\n",
      "4900\n",
      "5000\n",
      "5100\n",
      "5200\n",
      "5300\n",
      "5400\n",
      "5500\n",
      "5600\n",
      "5700\n",
      "5800\n",
      "5900\n",
      "6000\n",
      "6100\n",
      "6200\n",
      "6300\n",
      "6400\n",
      "6500\n",
      "6600\n",
      "6700\n",
      "6800\n",
      "6900\n",
      "7000\n",
      "7100\n",
      "7200\n",
      "7300\n",
      "7400\n",
      "7500\n",
      "7600\n",
      "7700\n",
      "7800\n",
      "7900\n",
      "8000\n",
      "8100\n",
      "8200\n",
      "8300\n",
      "8400\n"
     ]
    }
   ],
   "source": [
    "q_train[\"Question_Context\"] = np.zeros(q_train.shape[0])\n",
    "for i in range(q_train.shape[0]):\n",
    "    context = get_article(q_train[\"Embedding\"][i])\n",
    "    q_train[\"Question_Context\"][i] = q_train[\"Question\"][i] + \"\\n\\nYou may want to use the context:\\n\" + context\n",
    "    if i % 100 == 0: print(i)\n",
    "    "
   ]
  },
  {
   "cell_type": "code",
   "execution_count": 64,
   "id": "5067343c",
   "metadata": {},
   "outputs": [
    {
     "data": {
      "text/plain": [
       "(8456, 3)"
      ]
     },
     "execution_count": 64,
     "metadata": {},
     "output_type": "execute_result"
    }
   ],
   "source": [
    "q_train.shape"
   ]
  },
  {
   "cell_type": "code",
   "execution_count": 65,
   "id": "7a9d9b78",
   "metadata": {},
   "outputs": [],
   "source": [
    "q_train.to_csv(\"data/qc_train_df.csv\", sep=\"|\", index=False)"
   ]
  },
  {
   "cell_type": "code",
   "execution_count": 67,
   "id": "0f65ac09",
   "metadata": {},
   "outputs": [
    {
     "data": {
      "text/plain": [
       "(8456, 3)"
      ]
     },
     "execution_count": 67,
     "metadata": {},
     "output_type": "execute_result"
    }
   ],
   "source": [
    "qc_train_df = pd.read_csv(\"data/qc_train_df.csv\", sep=\"|\")\n",
    "qc_train_df.shape"
   ]
  },
  {
   "cell_type": "code",
   "execution_count": null,
   "id": "be228558",
   "metadata": {},
   "outputs": [],
   "source": []
  },
  {
   "cell_type": "code",
   "execution_count": null,
   "id": "b614b076",
   "metadata": {},
   "outputs": [],
   "source": []
  },
  {
   "cell_type": "code",
   "execution_count": 53,
   "id": "c87c7c44",
   "metadata": {},
   "outputs": [
    {
     "data": {
      "text/plain": [
       "array([list(['Louis XIV', 'Louis XIV', 'Louis XIV']),\n",
       "       list(['Indianapolis Colts', 'the Indianapolis Colts', '1998']),\n",
       "       list(['rapid expansion in telecommunication and financial activity', 'rapid expansion in telecommunication and financial activity', 'rapid expansion in telecommunication and financial activity']),\n",
       "       ...,\n",
       "       list(['ownership of private industries', 'technological superiority', 'technological superiority', 'ownership of private industries', 'technological superiority,']),\n",
       "       list(['arbitrary graph', 'arbitrary', 'arbitrary']),\n",
       "       list(['Internet2 officially retired Abilene and now refers to its new, higher capacity network as the Internet2 Network', 'Internet2 Network', 'Internet2 Network'])],\n",
       "      dtype=object)"
      ]
     },
     "execution_count": 53,
     "metadata": {},
     "output_type": "execute_result"
    }
   ],
   "source": [
    "a_test = np.load(\"data/answers_test.npy\", allow_pickle=True)\n",
    "a_test"
   ]
  },
  {
   "cell_type": "code",
   "execution_count": 56,
   "id": "f1737d04",
   "metadata": {},
   "outputs": [
    {
     "data": {
      "text/plain": [
       "\"How long was Warsaw the capital of the Polish-Lithuanian Commonwealth?\\n\\nYou may use the following text as context:\\nWarsaw remained the capital of the Polish–Lithuanian Commonwealth until 1796, when it was annexed by the Kingdom of Prussia to become the capital of the province of South Prussia. Liberated by Napoleon's army in 1806, Warsaw was made the capital of the newly created Duchy of Warsaw. Following the Congress of Vienna of 1815, Warsaw became the centre of the Congress Poland, a constitutional monarchy under a personal union with Imperial Russia. The Royal University of Warsaw was established in 1816.\""
      ]
     },
     "execution_count": 56,
     "metadata": {},
     "output_type": "execute_result"
    }
   ],
   "source": [
    "q_test_load[\"Question_Context\"][10]"
   ]
  },
  {
   "cell_type": "code",
   "execution_count": null,
   "id": "d7edd4ba",
   "metadata": {},
   "outputs": [],
   "source": []
  }
 ],
 "metadata": {
  "kernelspec": {
   "display_name": "Python 3 (ipykernel)",
   "language": "python",
   "name": "python3"
  },
  "language_info": {
   "codemirror_mode": {
    "name": "ipython",
    "version": 3
   },
   "file_extension": ".py",
   "mimetype": "text/x-python",
   "name": "python",
   "nbconvert_exporter": "python",
   "pygments_lexer": "ipython3",
   "version": "3.10.12"
  }
 },
 "nbformat": 4,
 "nbformat_minor": 5
}
